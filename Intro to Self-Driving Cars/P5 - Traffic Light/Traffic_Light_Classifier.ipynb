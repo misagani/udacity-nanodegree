{
 "cells": [
  {
   "cell_type": "markdown",
   "metadata": {},
   "source": [
    "# Traffic Light Classifier\n",
    "---\n",
    "\n",
    "In this project, you’ll use your knowledge of computer vision techniques to build a classifier for images of traffic lights! You'll be given a dataset of traffic light images in which one of three lights is illuminated: red, yellow, or green.\n",
    "\n",
    "In this notebook, you'll pre-process these images, extract features that will help us distinguish the different types of images, and use those features to classify the traffic light images into three classes: red, yellow, or green. The tasks will be broken down into a few sections:\n",
    "\n",
    "1. **Loading and visualizing the data**. \n",
    "      The first step in any classification task is to be familiar with your data; you'll need to load in the images of traffic lights and visualize them!\n",
    "\n",
    "2. **Pre-processing**. \n",
    "    The input images and output labels need to be standardized. This way, you can analyze all the input images using the same classification pipeline, and you know what output to expect when you eventually classify a *new* image.\n",
    "    \n",
    "3. **Feature extraction**. \n",
    "    Next, you'll extract some features from each image that will help distinguish and eventually classify these images.\n",
    "   \n",
    "4. **Classification and visualizing error**. \n",
    "    Finally, you'll write one function that uses your features to classify *any* traffic light image. This function will take in an image and output a label. You'll also be given code to determine the accuracy of your classification model.    \n",
    "    \n",
    "5. **Evaluate your model**.\n",
    "    To pass this project, your classifier must be >90% accurate and never classify any red lights as green; it's likely that you'll need to improve the accuracy of your classifier by changing existing features or adding new features. I'd also encourage you to try to get as close to 100% accuracy as possible!\n",
    "    \n",
    "Here are some sample images from the dataset (from left to right: red, green, and yellow traffic lights):\n",
    "<img src=\"images/all_lights.png\" width=\"50%\" height=\"50%\">\n"
   ]
  },
  {
   "cell_type": "markdown",
   "metadata": {},
   "source": [
    "---\n",
    "### *Here's what you need to know to complete the project:*\n",
    "\n",
    "Some template code has already been provided for you, but you'll need to implement additional code steps to successfully complete this project. Any code that is required to pass this project is marked with **'(IMPLEMENTATION)'** in the header. There are also a couple of questions about your thoughts as you work through this project, which are marked with **'(QUESTION)'** in the header. Make sure to answer all questions and to check your work against the [project rubric](https://review.udacity.com/#!/rubrics/1213/view) to make sure you complete the necessary classification steps!\n",
    "\n",
    "Your project submission will be evaluated based on the code implementations you provide, and on two main classification criteria.\n",
    "Your complete traffic light classifier should have:\n",
    "1. **Greater than 90% accuracy**\n",
    "2. ***Never* classify red lights as green**\n"
   ]
  },
  {
   "cell_type": "markdown",
   "metadata": {},
   "source": [
    "# 1. Loading and Visualizing the Traffic Light Dataset\n",
    "\n",
    "This traffic light dataset consists of 1484 number of color images in 3 categories - red, yellow, and green. As with most human-sourced data, the data is not evenly distributed among the types. There are:\n",
    "* 904 red traffic light images\n",
    "* 536 green traffic light images\n",
    "* 44 yellow traffic light images\n",
    "\n",
    "*Note: All images come from this [MIT self-driving car course](https://selfdrivingcars.mit.edu/) and are licensed under a [Creative Commons Attribution-ShareAlike 4.0 International License](https://creativecommons.org/licenses/by-sa/4.0/).*"
   ]
  },
  {
   "cell_type": "markdown",
   "metadata": {},
   "source": [
    "### Import resources\n",
    "\n",
    "Before you get started on the project code, import the libraries and resources that you'll need."
   ]
  },
  {
   "cell_type": "code",
   "execution_count": 346,
   "metadata": {},
   "outputs": [],
   "source": [
    "\"\"\"Traffic Light Classifier.\n",
    "Computer vision techniques to build a classifier,\n",
    "for images of traffic lights. \n",
    "\"\"\"  \n",
    "import cv2 # computer vision library\n",
    "import helpers # helper functions\n",
    "import random # for random test images\n",
    "import scipy.stats # mathematical statistics --> adding this\n",
    "import numpy as np # numpy library\n",
    "import matplotlib.pyplot as plt # plot images\n",
    "import matplotlib.image as mpimg # for loading in images\n",
    "%matplotlib inline"
   ]
  },
  {
   "cell_type": "markdown",
   "metadata": {},
   "source": [
    "## Training and Testing Data\n",
    "\n",
    "All 1484 of the traffic light images are separated into training and testing datasets. \n",
    "\n",
    "* 80% of these images are training images, for you to use as you create a classifier.\n",
    "* 20% are test images, which will be used to test the accuracy of your classifier.\n",
    "* All images are pictures of 3-light traffic lights with one light illuminated.\n",
    "\n",
    "## Define the image directories\n",
    "\n",
    "First, we set some variables to keep track of some where our images are stored:\n",
    "\n",
    "    IMAGE_DIR_TRAINING: the directory where our training image data is stored\n",
    "    IMAGE_DIR_TEST: the directory where our test image data is stored"
   ]
  },
  {
   "cell_type": "code",
   "execution_count": 347,
   "metadata": {},
   "outputs": [],
   "source": [
    "\"\"\"Datasets.\n",
    "Define the image directories.\n",
    "\"\"\"\n",
    "# Image data directories\n",
    "IMAGE_DIR_TRAINING = \"traffic_light_images/training/\"\n",
    "IMAGE_DIR_TEST = \"traffic_light_images/test/\""
   ]
  },
  {
   "cell_type": "markdown",
   "metadata": {},
   "source": [
    "## Load the datasets\n",
    "\n",
    "These first few lines of code will load the training traffic light images and store all of them in a variable, `IMAGE_LIST`. This list contains the images and their associated label (\"red\", \"yellow\", \"green\"). \n",
    "\n",
    "You are encouraged to take a look at the `load_dataset` function in the helpers.py file. This will give you a good idea about how lots of image files can be read in from a directory using the [glob library](https://pymotw.com/2/glob/). The `load_dataset` function takes in the name of an image directory and returns a list of images and their associated labels. \n",
    "\n",
    "For example, the first image-label pair in `IMAGE_LIST` can be accessed by index: \n",
    "``` IMAGE_LIST[0][:]```.\n"
   ]
  },
  {
   "cell_type": "code",
   "execution_count": 348,
   "metadata": {},
   "outputs": [],
   "source": [
    "\"\"\"Loading Datasets.\n",
    "Using the load_dataset function in helpers.py file.\n",
    "\"\"\"\n",
    "# Load training data\n",
    "IMAGE_LIST = helpers.load_dataset(IMAGE_DIR_TRAINING)"
   ]
  },
  {
   "cell_type": "markdown",
   "metadata": {},
   "source": [
    "## Visualize the Data\n",
    "\n",
    "The first steps in analyzing any dataset are to 1. load the data and 2. look at the data. Seeing what it looks like will give you an idea of what to look for in the images, what kind of noise or inconsistencies you have to deal with, and so on. This will help you understand the image dataset, and **understanding a dataset is part of making predictions about the data**."
   ]
  },
  {
   "cell_type": "markdown",
   "metadata": {},
   "source": [
    "---\n",
    "### Visualize the input images\n",
    "\n",
    "Visualize and explore the image data! Write code to display an image in `IMAGE_LIST`:\n",
    "* Display the image\n",
    "* Print out the shape of the image \n",
    "* Print out its corresponding label\n",
    "\n",
    "See if you can display at least one of each type of traffic light image – red, green, and yellow — and look at their similarities and differences."
   ]
  },
  {
   "cell_type": "code",
   "execution_count": 349,
   "metadata": {},
   "outputs": [
    {
     "name": "stdout",
     "output_type": "stream",
     "text": [
      "Image Shape: (48, 21, 3)\n",
      "Image Label: yellow\n"
     ]
    },
    {
     "data": {
      "text/plain": [
       "<matplotlib.image.AxesImage at 0x7f7129e64390>"
      ]
     },
     "execution_count": 349,
     "metadata": {},
     "output_type": "execute_result"
    },
    {
     "data": {
      "image/png": "[encoded data removed]",
      "text/plain": [
       "<matplotlib.figure.Figure at 0x7f712249a908>"
      ]
     },
     "metadata": {},
     "output_type": "display_data"
    },
    {
     "data": {
      "image/png": "[encoded data removed]",
      "text/plain": [
       "<matplotlib.figure.Figure at 0x7f7122c93e80>"
      ]
     },
     "metadata": {},
     "output_type": "display_data"
    }
   ],
   "source": [
    "\"\"\"Visualize the Images from IMAGE_LIST.\n",
    "1). Display an image.\n",
    "2). Print out the shape of the image.\n",
    "3). Print out its corresponding label.\n",
    "4). Display the example of each image, Red, Yellow, Green.\n",
    "\"\"\"   \n",
    "# ---------------- Mapping ----------------\n",
    "# Red Traffic from array 0 until 722\n",
    "# Yellow Traffic from array 723 until 757\n",
    "# Green Traffic from array 758 until 1186\n",
    "# -----------------------------------------\n",
    "# Image Array\n",
    "# Change this value to check the others\n",
    "img_array = 728\n",
    "\n",
    "# Image & Label Variables\n",
    "var_image = IMAGE_LIST[img_array][0]\n",
    "var_label = IMAGE_LIST[img_array][1]\n",
    "\n",
    "# 1). Display the Image\n",
    "f, (fg1) = plt.subplots(1, 1, figsize=(10,5))\n",
    "fg1.set_title(str(var_label))\n",
    "fg1.imshow(var_image)\n",
    "\n",
    "# 2). Print out the shape of the image\n",
    "print(\"Image Shape:\", var_image.shape)\n",
    "\n",
    "# 3). Print out its corresponding label\n",
    "print(\"Image Label:\", var_label)\n",
    "\n",
    "# 4). Display the example of each image, Red, Yellow, Green\n",
    "f, (fg1, fg2, fg3) = plt.subplots(1, 3, figsize=(10,5))\n",
    "fg1.set_title('Red')\n",
    "fg1.imshow(IMAGE_LIST[3][0])\n",
    "fg2.set_title('Yellow')\n",
    "fg2.imshow(IMAGE_LIST[737][0])\n",
    "fg3.set_title('Green')\n",
    "fg3.imshow(IMAGE_LIST[777][0])"
   ]
  },
  {
   "cell_type": "markdown",
   "metadata": {},
   "source": [
    "# 2. Pre-process the Data\n",
    "\n",
    "After loading in each image, you have to standardize the input and output!\n",
    "\n",
    "### Input\n",
    "\n",
    "This means that every input image should be in the same format, of the same size, and so on. We'll be creating features by performing the same analysis on every picture, and for a classification task like this, it's important that **similar images create similar features**! \n",
    "\n",
    "### Output\n",
    "\n",
    "We also need the output to be a label that is easy to read and easy to compare with other labels. It is good practice to convert categorical data like \"red\" and \"green\" to numerical data.\n",
    "\n",
    "A very common classification output is a 1D list that is the length of the number of classes - three in the case of red, yellow, and green lights - with the values 0 or 1 indicating which class a certain image is. For example, since we have three classes (red, yellow, and green), we can make a list with the order: [red value, yellow value, green value]. In general, order does not matter, we choose the order [red value, yellow value, green value] in this case to reflect the position of each light in descending vertical order.\n",
    "\n",
    "A red light should have the  label: [1, 0, 0]. Yellow should be: [0, 1, 0]. Green should be: [0, 0, 1]. These labels are called **one-hot encoded labels**.\n",
    "\n",
    "*(Note: one-hot encoding will be especially important when you work with [machine learning algorithms](https://machinelearningmastery.com/how-to-one-hot-encode-sequence-data-in-python/)).*\n",
    "\n",
    "<img src=\"images/processing_steps.png\" width=\"80%\" height=\"80%\">\n"
   ]
  },
  {
   "cell_type": "markdown",
   "metadata": {},
   "source": [
    "---\n",
    "<a id='task2'></a>\n",
    "### (IMPLEMENTATION): Standardize the input images\n",
    "\n",
    "* Resize each image to the desired input size: 32x32px.\n",
    "* (Optional) You may choose to crop, shift, or rotate the images in this step as well.\n",
    "\n",
    "It's very common to have square input sizes that can be rotated (and remain the same size), and analyzed in smaller, square patches. It's also important to make all your images the same size so that they can be sent through the same pipeline of classification steps!"
   ]
  },
  {
   "cell_type": "code",
   "execution_count": 350,
   "metadata": {},
   "outputs": [],
   "source": [
    "def standardize_input(image):\n",
    "    \"\"\"Standardize Image.\n",
    "    This function take an RGB image and return a standardized version.\n",
    "    Resizing each image into 32x32 pixel, and adjust to 24x16 pixel.\n",
    "    \"\"\"\n",
    "    # Return an array copy of the image\n",
    "    clone_image = np.copy(image)\n",
    "    \n",
    "    # Resize to 32x32 pixel\n",
    "    resize_image = cv2.resize(clone_image, (32, 32))\n",
    "    \n",
    "    # Adjusting image to 24x16 pixel\n",
    "    row_crop = 4 # 32-4-4 = 24\n",
    "    col_crop = 8 # 32-8-8 = 16\n",
    "    standard_image = resize_image[row_crop:-row_crop, col_crop:-col_crop, :]\n",
    "    \n",
    "    # Return result\n",
    "    return standard_image    "
   ]
  },
  {
   "cell_type": "markdown",
   "metadata": {},
   "source": [
    "## Standardize the output\n",
    "\n",
    "With each loaded image, we also specify the expected output. For this, we use **one-hot encoding**.\n",
    "\n",
    "* One-hot encode the labels. To do this, create an array of zeros representing each class of traffic light (red, yellow, green), and set the index of the expected class number to 1. \n",
    "\n",
    "Since we have three classes (red, yellow, and green), we have imposed an order of: [red value, yellow value, green value]. To one-hot encode, say, a yellow light, we would first initialize an array to [0, 0, 0] and change the middle value (the yellow value) to 1: [0, 1, 0].\n"
   ]
  },
  {
   "cell_type": "markdown",
   "metadata": {},
   "source": [
    "---\n",
    "<a id='task3'></a>\n",
    "### (IMPLEMENTATION): Implement one-hot encoding"
   ]
  },
  {
   "cell_type": "code",
   "execution_count": 351,
   "metadata": {},
   "outputs": [],
   "source": [
    "def one_hot_encode(label):\n",
    "    \"\"\"One-Hot Encoding.\n",
    "    This function given a label - \"red\", \"green\", or \"yellow\",\n",
    "    returning a one-hot encoded label.\n",
    "    One-Hot Encode of \"red\"    return: [1, 0, 0]\n",
    "    One-Hot Encode of \"yellow\" return: [0, 1, 0]\n",
    "    One-Hot Encode of \"green\"  return: [0, 0, 1]\n",
    "    \"\"\"\n",
    "    # Init Variable\n",
    "    one_hot_encoded = []\n",
    "    \n",
    "    # Processing\n",
    "    if label   == \"red\":\n",
    "        one_hot_encoded = [1, 0, 0]\n",
    "    elif label == \"yellow\":\n",
    "        one_hot_encoded = [0, 1, 0]\n",
    "    elif label == \"green\":\n",
    "        one_hot_encoded = [0, 0, 1]\n",
    "    else:\n",
    "        one_hot_encoded = [0, 0, 0]\n",
    "        \n",
    "    # Return result\n",
    "    return one_hot_encoded"
   ]
  },
  {
   "cell_type": "markdown",
   "metadata": {},
   "source": [
    "### Testing as you Code\n",
    "\n",
    "After programming a function like this, it's a good idea to test it, and see if it produces the expected output. **In general, it's good practice to test code in small, functional pieces, after you write it**. This way, you can make sure that your code is correct as you continue to build a classifier, and you can identify any errors early on so that they don't compound.\n",
    "\n",
    "All test code can be found in the file `test_functions.py`. You are encouraged to look through that code and add your own testing code if you find it useful!\n",
    "\n",
    "One test function you'll find is: `test_one_hot(self, one_hot_function)` which takes in one argument, a one_hot_encode function, and tests its functionality. If your one_hot_label code does not work as expected, this test will print ot an error message that will tell you a bit about why your code failed. Once your code works, this should print out TEST PASSED."
   ]
  },
  {
   "cell_type": "code",
   "execution_count": 352,
   "metadata": {},
   "outputs": [
    {
     "data": {
      "text/markdown": [
       "**<span style=\"color: green;\">TEST PASSED</span>**"
      ],
      "text/plain": [
       "<IPython.core.display.Markdown object>"
      ]
     },
     "metadata": {},
     "output_type": "display_data"
    }
   ],
   "source": [
    "\"\"\"Testing One-Hot Encoding.\n",
    "To see if it produces the expected output.\n",
    "\"\"\"\n",
    "# Importing the tests\n",
    "import test_functions\n",
    "tests = test_functions.Tests()\n",
    "\n",
    "# Test for one_hot_encode function\n",
    "tests.test_one_hot(one_hot_encode)"
   ]
  },
  {
   "cell_type": "markdown",
   "metadata": {},
   "source": [
    "## Construct a `STANDARDIZED_LIST` of input images and output labels.\n",
    "\n",
    "This function takes in a list of image-label pairs and outputs a **standardized** list of resized images and one-hot encoded labels.\n",
    "\n",
    "This uses the functions you defined above to standardize the input and output, so those functions must be complete for this standardization to work!\n"
   ]
  },
  {
   "cell_type": "code",
   "execution_count": 353,
   "metadata": {},
   "outputs": [],
   "source": [
    "def standardize(image_list):\n",
    "    \"\"\"Standardized List of Input Images and Output Labels.\n",
    "    This function takes in a list of image-label pairs and outputs,\n",
    "    a standardized list of resized images and one-hot encoded labels.\n",
    "    \"\"\"    \n",
    "    # Empty image data array\n",
    "    standard_list = []\n",
    "\n",
    "    # Iterate through all the image-label pairs\n",
    "    for item in image_list:\n",
    "        image = item[0]\n",
    "        label = item[1]\n",
    "\n",
    "        # Standardize the image\n",
    "        standardized_im = standardize_input(image)\n",
    "\n",
    "        # One-hot encode the label\n",
    "        one_hot_label = one_hot_encode(label)    \n",
    "\n",
    "        # Append the image, and it's one hot encoded label to the full, processed list of image data \n",
    "        standard_list.append((standardized_im, one_hot_label))\n",
    "    \n",
    "    # Return result\n",
    "    return standard_list\n",
    "\n",
    "# Standardize all of training images\n",
    "STANDARDIZED_LIST = standardize(IMAGE_LIST)"
   ]
  },
  {
   "cell_type": "markdown",
   "metadata": {},
   "source": [
    "## Visualize the standardized data\n",
    "\n",
    "Display a standardized image from STANDARDIZED_LIST and compare it with a non-standardized image from IMAGE_LIST. Note that their sizes and appearance are different!"
   ]
  },
  {
   "cell_type": "code",
   "execution_count": 354,
   "metadata": {},
   "outputs": [
    {
     "name": "stdout",
     "output_type": "stream",
     "text": [
      "Image Shape - Original: (110, 41, 3)\n",
      "Image Shape - Standard: (24, 16, 3)\n",
      "Image Label - Ortiginal: green\n",
      "Image Label - Standard: [0, 0, 1]\n"
     ]
    },
    {
     "data": {
      "text/plain": [
       "<matplotlib.image.AxesImage at 0x7f7122fd0fd0>"
      ]
     },
     "execution_count": 354,
     "metadata": {},
     "output_type": "execute_result"
    },
    {
     "data": {
      "image/png": "[encoded data removed]",
      "text/plain": [
       "<matplotlib.figure.Figure at 0x7f71223e6be0>"
      ]
     },
     "metadata": {},
     "output_type": "display_data"
    }
   ],
   "source": [
    "\"\"\"Visualize the Standardized Images.\n",
    "Display a standardized image from STANDARDIZED_LIST,\n",
    "and compare it with a non-standardized image from IMAGE_LIST. \n",
    "\"\"\"    \n",
    "# ---------------- Mapping ----------------\n",
    "# Red Traffic from array 0 until 722\n",
    "# Yellow Traffic from array 723 until 757\n",
    "# Green Traffic from array 758 until 1186\n",
    "# -----------------------------------------\n",
    "# Image Array\n",
    "# Change this value to check the others\n",
    "img_array = 1000\n",
    "\n",
    "# Image & Label from IMAGE_LIST\n",
    "ori_image = IMAGE_LIST[img_array][0]\n",
    "ori_label = IMAGE_LIST[img_array][1]\n",
    "\n",
    "# Image & Label from STANDARDIZED_LIST\n",
    "std_image = STANDARDIZED_LIST[img_array][0]\n",
    "std_label = STANDARDIZED_LIST[img_array][1]\n",
    "\n",
    "# Print out the shape of the image from IMAGE_LIST\n",
    "print(\"Image Shape - Original:\", ori_image.shape)\n",
    "\n",
    "# Print out the shape of the image from STANDARDIZED_LIST\n",
    "print(\"Image Shape - Standard:\", std_image.shape)\n",
    "\n",
    "# Print out its corresponding label from IMAGE_LIST\n",
    "print(\"Image Label - Ortiginal:\", ori_label)\n",
    "\n",
    "# Print out its corresponding label from STANDARDIZED_LIST\n",
    "print(\"Image Label - Standard:\", std_label)\n",
    "\n",
    "# 4). Display the example of each image, Red, Yellow, Green\n",
    "f, (fg1, fg2) = plt.subplots(1, 2, figsize=(10,5))\n",
    "fg1.set_title('Original')\n",
    "fg1.imshow(ori_image)\n",
    "fg2.set_title('Standard')\n",
    "fg2.imshow(std_image)"
   ]
  },
  {
   "cell_type": "markdown",
   "metadata": {},
   "source": [
    "# 3. Feature Extraction\n",
    "\n",
    "You'll be using what you now about color spaces, shape analysis, and feature construction to create features that help distinguish and classify the three types of traffic light images.\n",
    "\n",
    "You'll be tasked with creating **one feature** at a minimum (with the option to create more). The required feature is **a brightness feature using HSV color space**:\n",
    "\n",
    "1. A brightness feature.\n",
    "    - Using HSV color space, create a feature that helps you identify the 3 different classes of traffic light.\n",
    "    - You'll be asked some questions about what methods you tried to locate this traffic light, so, as you progress through this notebook, always be thinking about your approach: what works and what doesn't?\n",
    "\n",
    "2. (Optional): Create more features! \n",
    "\n",
    "Any more features that you create are up to you and should improve the accuracy of your traffic light classification algorithm! One thing to note is that, to pass this project you must **never classify a red light as a green light** because this creates a serious safety risk for a self-driving car. To avoid this misclassification, you might consider adding another feature that specifically distinguishes between red and green lights.\n",
    "\n",
    "These features will be combined near the end of his notebook to form a complete classification algorithm."
   ]
  },
  {
   "cell_type": "markdown",
   "metadata": {},
   "source": [
    "## Creating a brightness feature \n",
    "\n",
    "There are a number of ways to create a brightness feature that will help you characterize images of traffic lights, and it will be up to you to decide on the best procedure to complete this step. You should visualize and test your code as you go.\n",
    "\n",
    "Pictured below is a sample pipeline for creating a brightness feature (from left to right: standardized image, HSV color-masked image, cropped image, brightness feature):\n",
    "\n",
    "<img src=\"images/feature_ext_steps.png\" width=\"70%\" height=\"70%\">\n"
   ]
  },
  {
   "cell_type": "markdown",
   "metadata": {},
   "source": [
    "## RGB to HSV conversion\n",
    "\n",
    "Below, a test image is converted from RGB to HSV colorspace and each component is displayed in an image."
   ]
  },
  {
   "cell_type": "code",
   "execution_count": 355,
   "metadata": {},
   "outputs": [
    {
     "data": {
      "image/png": "[encoded data removed]",
      "text/plain": [
       "<matplotlib.figure.Figure at 0x7f7122838f98>"
      ]
     },
     "metadata": {},
     "output_type": "display_data"
    },
    {
     "data": {
      "image/png": "[encoded data removed]",
      "text/plain": [
       "<matplotlib.figure.Figure at 0x7f71233a70f0>"
      ]
     },
     "metadata": {},
     "output_type": "display_data"
    }
   ],
   "source": [
    "\"\"\"RGB to HSV Conversion.\n",
    "Convert and image to HSV colorspace.\n",
    "Visualize the individual color channels,\n",
    "and display each Histogram of H, S, V. \n",
    "\"\"\"    \n",
    "# ---------------- Mapping ----------------\n",
    "# Red Traffic from array 0 until 722\n",
    "# Yellow Traffic from array 723 until 757\n",
    "# Green Traffic from array 758 until 1186\n",
    "# -----------------------------------------\n",
    "# Image Array\n",
    "# Change this value to check the others\n",
    "img_array = 1000\n",
    "\n",
    "# Image & Label from IMAGE_LIST\n",
    "ori_image = IMAGE_LIST[img_array][0]\n",
    "ori_label = IMAGE_LIST[img_array][1]\n",
    "\n",
    "# Image & Label from STANDARDIZED_LIST\n",
    "std_image = STANDARDIZED_LIST[img_array][0]\n",
    "std_label = STANDARDIZED_LIST[img_array][1]\n",
    "\n",
    "# Convert to HSV\n",
    "hsv_conversion = cv2.cvtColor(std_image, cv2.COLOR_RGB2HSV)\n",
    "\n",
    "# HSV channels\n",
    "h_channel = hsv_conversion[:,:,0]\n",
    "s_channel = hsv_conversion[:,:,1]\n",
    "v_channel = hsv_conversion[:,:,2]\n",
    "\n",
    "# Plot the original image and the three channels\n",
    "f, (fg1, fg2, fg3, fg4) = plt.subplots(1, 4, figsize=(10,5))\n",
    "fg1.set_title('Standard Image')\n",
    "fg1.imshow(std_image)\n",
    "fg2.set_title('H Channel')\n",
    "fg2.imshow(h_channel)\n",
    "fg3.set_title('S Channel')\n",
    "fg3.imshow(s_channel)\n",
    "fg4.set_title('V Channel')\n",
    "fg4.imshow(v_channel)\n",
    "\n",
    "# Histogram of HSV for each channel\n",
    "h_histogram = np.histogram(hsv[:,:,0], bins=32, range=(0, 255))\n",
    "s_histogram = np.histogram(hsv[:,:,1], bins=32, range=(0, 255))\n",
    "v_histogram = np.histogram(hsv[:,:,2], bins=32, range=(0, 255))\n",
    "\n",
    "# Generating bin centers of Histogram\n",
    "bin_edges   = h_histogram[1]\n",
    "bin_centers = (bin_edges[1:] + bin_edges[0:len(bin_edges) - 1]) / 2\n",
    "\n",
    "# Plot each chanel of the HSV Histogram \n",
    "fig = plt.figure(figsize=(10,3))\n",
    "plt.subplot(131)\n",
    "plt.bar(bin_centers, h_histogram[0])\n",
    "plt.xlim(0, 180)\n",
    "plt.title('H Histogram')\n",
    "plt.subplot(132)\n",
    "plt.bar(bin_centers, s_histogram[0])\n",
    "plt.xlim(0, 256)\n",
    "plt.title('S Histogram')\n",
    "plt.subplot(133)\n",
    "plt.bar(bin_centers, v_histogram[0])\n",
    "plt.xlim(0, 256)\n",
    "plt.title('V Histogram')\n",
    "plt.show()"
   ]
  },
  {
   "cell_type": "markdown",
   "metadata": {},
   "source": [
    "---\n",
    "<a id='task7'></a>\n",
    "### (IMPLEMENTATION): Create a brightness feature that uses HSV color space\n",
    "\n",
    "Write a function that takes in an RGB image and returns a 1D feature vector and/or single value that will help classify an image of a traffic light. The only requirement is that this function should apply an HSV colorspace transformation, the rest is up to you. \n",
    "\n",
    "From this feature, you should be able to estimate an image's label and classify it as either a red, green, or yellow traffic light. You may also define helper functions if they simplify your code."
   ]
  },
  {
   "cell_type": "code",
   "execution_count": 359,
   "metadata": {},
   "outputs": [],
   "source": [
    "\"\"\"Extract Features.\n",
    "This function takes in an RGB image,\n",
    "and outputs a feature vector and value.\n",
    "This feature use HSV colorspace values.\n",
    "\"\"\"\n",
    "def extract_features(rgb_image):\n",
    "    # Using HSV color space\n",
    "    hsv_image = cv2.cvtColor(rgb_image, cv2.COLOR_RGB2HSV)\n",
    "    \n",
    "    # Getting where is the light brightest spot\n",
    "    mask_bottom = np.array([0,27,123])\n",
    "    mask_top = np.array([178,236,254])\n",
    "    masking = cv2.inRange(hsv_image, mask_bottom, mask_top)\n",
    "    feature_hsv = cv2.bitwise_and(hsv_image, hsv_image, mask = masking)\n",
    "    \n",
    "    # Masking range of Red Color\n",
    "    lower_red = np.array([161])\n",
    "    upper_red = np.array([203])\n",
    "    red_masking = cv2.inRange(feature_hsv[:,:,0], lower_red, upper_red)\n",
    "    \n",
    "    # Masking range of Yellow Color\n",
    "    lower_yellow = np.array([9])\n",
    "    upper_yellow = np.array([31])\n",
    "    yellow_masking = cv2.inRange(feature_hsv[:,:,0], lower_yellow, upper_yellow)\n",
    "    \n",
    "    # Masking range of Green Color\n",
    "    lower_green = np.array([79]) \n",
    "    upper_green = np.array([101])\n",
    "    green_masking = cv2.inRange(feature_hsv[:,:,0], lower_green, upper_green)\n",
    "    \n",
    "    # Combine masks\n",
    "    combine_masking = red_masking + yellow_masking + green_masking\n",
    "    \n",
    "    # Copy Hue channel\n",
    "    feature = np.copy(hsv_image[:,:,0])\n",
    "    feature[combine_masking == 0] = [0]\n",
    "    \n",
    "    # Return result\n",
    "    return feature"
   ]
  },
  {
   "cell_type": "markdown",
   "metadata": {
    "collapsed": true
   },
   "source": [
    "## (Optional) Create more features to help accurately label the traffic light images"
   ]
  },
  {
   "cell_type": "code",
   "execution_count": 362,
   "metadata": {},
   "outputs": [],
   "source": [
    "\"\"\"Additional Features.\n",
    "This function based on mathematical statistics functions.\n",
    "Searching of average value (Mean),\n",
    "and most common value (Mode).\n",
    "\"\"\"\n",
    "def mode_value(hsv_image):\n",
    "    total_mode = scipy.stats.mode(hsv_image[np.nonzero(hsv_image)])[0]\n",
    "    return total_mode[0] if len(total_mode) > 0 else 0\n",
    "\n",
    "def median_value(hsv_image):\n",
    "    nonzero = hsv_image[np.nonzero(hsv_image)]\n",
    "    if len(nonzero) > 0:\n",
    "        return np.median(hsv_image[np.nonzero(hsv_image)])\n",
    "    return 0"
   ]
  },
  {
   "cell_type": "markdown",
   "metadata": {},
   "source": [
    "## (QUESTION 1): How do the features you made help you distinguish between the 3 classes of traffic light images?"
   ]
  },
  {
   "cell_type": "markdown",
   "metadata": {},
   "source": [
    "**Answer:**\n",
    "1. We must resize all of the image into the same pixel size.\n",
    "2. Next, convert RGB into HSV value.\n",
    "3. From HSV value, we can distinguish which one red, yellow, or green, by masking them.\n",
    "4. Finally, we can clasify by using threshold value between red, yellow, and green."
   ]
  },
  {
   "cell_type": "markdown",
   "metadata": {
    "collapsed": true
   },
   "source": [
    "# 4. Classification and Visualizing Error\n",
    "\n",
    "Using all of your features, write a function that takes in an RGB image and, using your extracted features, outputs whether a light is red, green or yellow as a one-hot encoded label. This classification function should be able to classify any image of a traffic light!\n",
    "\n",
    "You are encouraged to write any helper functions or visualization code that you may need, but for testing the accuracy, make sure that this `estimate_label` function returns a one-hot encoded label."
   ]
  },
  {
   "cell_type": "markdown",
   "metadata": {},
   "source": [
    "## ------------------------------------------------\n",
    "<a id='task8'></a>\n",
    "### (IMPLEMENTATION): Build a complete classifier "
   ]
  },
  {
   "cell_type": "code",
   "execution_count": 363,
   "metadata": {},
   "outputs": [],
   "source": [
    "\"\"\"Traffic Light Classifier.\n",
    "This function take in RGB image input.\n",
    "Extract features from the RGB image and\n",
    "use those features to classify the image,\n",
    "and output a one-hot encoded label.\n",
    "\"\"\"\n",
    "def estimate_label(rgb_image):\n",
    "    # Init variable\n",
    "    predicted_label = []\n",
    "        \n",
    "    # Extract Features\n",
    "    masked_image = extract_features(rgb_image)\n",
    "    mode = mode_value(masked_image)\n",
    "    median = median_value(masked_image)\n",
    "    \n",
    "    # Threshold classification between red, yellow and green\n",
    "    if (median >= 162.) or (mode >= 176.):\n",
    "        predicted_label = one_hot_encode(\"red\")    \n",
    "    elif (median >= 79. and median <= 161.):\n",
    "        predicted_label = one_hot_encode(\"green\")\n",
    "    elif (mode == 11.) and (median == 11.):        # tricky threshold, worked only for this dataset\n",
    "        predicted_label = one_hot_encode(\"green\")        \n",
    "    else:\n",
    "        predicted_label = one_hot_encode(\"yellow\") # all unidentified, classify as yellow (safe)\n",
    "    \n",
    "    # Return result\n",
    "    return predicted_label"
   ]
  },
  {
   "cell_type": "markdown",
   "metadata": {},
   "source": [
    "## Testing the classifier\n",
    "\n",
    "Here is where we test your classification algorithm using our test set of data that we set aside at the beginning of the notebook! This project will be complete once you've pogrammed a \"good\" classifier.\n",
    "\n",
    "A \"good\" classifier in this case should meet the following criteria (and once it does, feel free to submit your project):\n",
    "1. Get above 90% classification accuracy.\n",
    "2. Never classify a red light as a green light. \n",
    "\n",
    "### Test dataset\n",
    "\n",
    "Below, we load in the test dataset, standardize it using the `standardize` function you defined above, and then **shuffle** it; this ensures that order will not play a role in testing accuracy.\n"
   ]
  },
  {
   "cell_type": "code",
   "execution_count": 364,
   "metadata": {},
   "outputs": [],
   "source": [
    "\"\"\"Testing the classifier.\n",
    "Using the load_dataset function in helpers.py\n",
    "We load in the test dataset, standardize it, and then shuffle it.\n",
    "This ensures that order will not play a role in testing accuracy.\n",
    "\"\"\"\n",
    "# Load test data\n",
    "TEST_IMAGE_LIST = helpers.load_dataset(IMAGE_DIR_TEST)\n",
    "\n",
    "# Standardize the test data\n",
    "STANDARDIZED_TEST_LIST = standardize(TEST_IMAGE_LIST)\n",
    "\n",
    "# Shuffle the standardized test data\n",
    "random.shuffle(STANDARDIZED_TEST_LIST)"
   ]
  },
  {
   "cell_type": "markdown",
   "metadata": {},
   "source": [
    "## Determine the Accuracy\n",
    "\n",
    "Compare the output of your classification algorithm (a.k.a. your \"model\") with the true labels and determine the accuracy.\n",
    "\n",
    "This code stores all the misclassified images, their predicted labels, and their true labels, in a list called `MISCLASSIFIED`. This code is used for testing and *should not be changed*."
   ]
  },
  {
   "cell_type": "code",
   "execution_count": 365,
   "metadata": {},
   "outputs": [
    {
     "name": "stdout",
     "output_type": "stream",
     "text": [
      "Accuracy of Trafic Light Classifier = 98.32% (0.9831649831649831)\n",
      "Number of misclassified images      = 5 out of 297 images\n"
     ]
    }
   ],
   "source": [
    "\"\"\"Determine the Accuracy.\n",
    "Constructs a list of misclassified images given a list of test images and their labels.\n",
    "This will throw an AssertionError if labels are not standardized (one-hot encoded).\n",
    "And check the accuracy of this classifier.\n",
    "\"\"\"  \n",
    "def get_misclassified_images(test_images):\n",
    "    # Track misclassified images by placing them into a list\n",
    "    misclassified_images_labels = []\n",
    "\n",
    "    # Iterate through all the test images\n",
    "    # Classify each image and compare to the true label\n",
    "    for image in test_images:\n",
    "        # Get true data\n",
    "        im = image[0]\n",
    "        true_label = image[1]\n",
    "        assert(len(true_label) == 3), \"The true_label is not the expected length (3).\"\n",
    "\n",
    "        # Get predicted label from the classifier\n",
    "        predicted_label = estimate_label(im)\n",
    "        assert(len(predicted_label) == 3), \"The predicted_label is not the expected length (3).\"\n",
    "\n",
    "        # Compare true and predicted labels \n",
    "        if(predicted_label != true_label):            \n",
    "            # If these labels are not equal, the image has been misclassified\n",
    "            misclassified_images_labels.append((im, predicted_label, true_label))\n",
    "                        \n",
    "    # Return the list of misclassified [image, predicted_label, true_label] values\n",
    "    return misclassified_images_labels\n",
    "\n",
    "# Find all misclassified images in a given test set\n",
    "MISCLASSIFIED = get_misclassified_images(STANDARDIZED_TEST_LIST)\n",
    "\n",
    "# Accuracy calculations\n",
    "total = len(STANDARDIZED_TEST_LIST)\n",
    "num_correct = total - len(MISCLASSIFIED)\n",
    "accuracy = num_correct/total\n",
    "\n",
    "# Print Result of Accuracy and Misclassified Images\n",
    "print('Accuracy of Trafic Light Classifier = {:.2f}%'.format(accuracy*100) + ' (' + str(accuracy) + ')')\n",
    "print(\"Number of misclassified images      = \" + str(len(MISCLASSIFIED)) +' out of '+ str(total) + ' images')"
   ]
  },
  {
   "cell_type": "markdown",
   "metadata": {},
   "source": [
    "---\n",
    "<a id='task9'></a>\n",
    "### Visualize the misclassified images\n",
    "\n",
    "Visualize some of the images you classified wrong (in the `MISCLASSIFIED` list) and note any qualities that make them difficult to classify. This will help you identify any weaknesses in your classification algorithm."
   ]
  },
  {
   "cell_type": "code",
   "execution_count": 366,
   "metadata": {},
   "outputs": [
    {
     "name": "stdout",
     "output_type": "stream",
     "text": [
      "-------------------\n",
      "-- MISCLASSIFIED -- \n",
      "-------------------\n",
      "Image   : 1\n",
      "Mode    : 0\n",
      "Median  : 0\n",
      "Predict : [0, 1, 0]\n",
      "Actual  : [0, 0, 1]\n",
      "-------------------\n",
      "Image   : 2\n",
      "Mode    : 0\n",
      "Median  : 0\n",
      "Predict : [0, 1, 0]\n",
      "Actual  : [1, 0, 0]\n",
      "-------------------\n",
      "Image   : 3\n",
      "Mode    : 0\n",
      "Median  : 0\n",
      "Predict : [0, 1, 0]\n",
      "Actual  : [1, 0, 0]\n",
      "-------------------\n",
      "Image   : 4\n",
      "Mode    : 0\n",
      "Median  : 0\n",
      "Predict : [0, 1, 0]\n",
      "Actual  : [0, 0, 1]\n",
      "-------------------\n",
      "Image   : 5\n",
      "Mode    : 0\n",
      "Median  : 0\n",
      "Predict : [0, 1, 0]\n",
      "Actual  : [0, 0, 1]\n",
      "-------------------\n"
     ]
    },
    {
     "data": {
      "image/png": "[encoded data removed]",
      "text/plain": [
       "<matplotlib.figure.Figure at 0x7f7122116b00>"
      ]
     },
     "metadata": {},
     "output_type": "display_data"
    },
    {
     "data": {
      "image/png": "[encoded data removed]",
      "text/plain": [
       "<matplotlib.figure.Figure at 0x7f71222ad390>"
      ]
     },
     "metadata": {},
     "output_type": "display_data"
    },
    {
     "data": {
      "image/png": "[encoded data removed]",
      "text/plain": [
       "<matplotlib.figure.Figure at 0x7f7121c589e8>"
      ]
     },
     "metadata": {},
     "output_type": "display_data"
    },
    {
     "data": {
      "image/png": "[encoded data removed]",
      "text/plain": [
       "<matplotlib.figure.Figure at 0x7f71221fd860>"
      ]
     },
     "metadata": {},
     "output_type": "display_data"
    },
    {
     "data": {
      "image/png": "[encoded data removed]",
      "text/plain": [
       "<matplotlib.figure.Figure at 0x7f7122ba51d0>"
      ]
     },
     "metadata": {},
     "output_type": "display_data"
    }
   ],
   "source": [
    "\"\"\"Visualize the Misclassified Images.\n",
    "Display an image in the `MISCLASSIFIED` list.\n",
    "Print out its predicted label - to see what-\n",
    "the image *was* incorrectly classified as.\n",
    "\"\"\"  \n",
    "print('-------------------')\n",
    "print('-- MISCLASSIFIED -- ')\n",
    "\n",
    "# Init Variables\n",
    "images_missclassified = []\n",
    "img_count = 0\n",
    "\n",
    "# Check each image in misclassified list\n",
    "for image in MISCLASSIFIED:\n",
    "    # Counting image\n",
    "    img_count += 1\n",
    "    print('-------------------')\n",
    "    \n",
    "    # Check the features\n",
    "    images_missclassified = image[0]\n",
    "    masked_image = extract_features(image[0])\n",
    "    print('Image   :', img_count)\n",
    "    print('Mode    :', mode_value(masked_image))\n",
    "    print('Median  :', median_value(masked_image))\n",
    "    print('Predict :', image[1])\n",
    "    print('Actual  :', image[2])\n",
    "    \n",
    "    # Plot the missclassified images\n",
    "    f, (fg1, fg2) = plt.subplots(1, 2, figsize=(5,3))\n",
    "    fg1.set_title('Standard ' + str(img_count))\n",
    "    fg1.imshow(images_missclassified)\n",
    "    fg2.set_title('Masked ' + str(img_count))\n",
    "    fg2.imshow(masked_image)\n",
    "print('-------------------')"
   ]
  },
  {
   "cell_type": "markdown",
   "metadata": {},
   "source": [
    "---\n",
    "<a id='question2'></a>\n",
    "## (Question 2): After visualizing these misclassifications, what weaknesses do you think your classification algorithm has? Please note at least two."
   ]
  },
  {
   "cell_type": "markdown",
   "metadata": {},
   "source": [
    "**Answer:** \n",
    "1. Masking using HSV value cannot cover all of variation color. Especially 'abnormal' ones. \n",
    "2. 'abnormal' means, color supposedly 'red' is not 'red', color 'yellow' is not 'yellow', and color 'green' is not 'green'.\n",
    "3. In this case, all image that cannot identify, have almost white/gray color.\n",
    "4. We must using machine learning for more accurate result."
   ]
  },
  {
   "cell_type": "markdown",
   "metadata": {},
   "source": [
    "## Test if you classify any red lights as green\n",
    "\n",
    "**To pass this project, you must not classify any red lights as green!** Classifying red lights as green would cause a car to drive through a red traffic light, so this red-as-green error is very dangerous in the real world. \n",
    "\n",
    "The code below lets you test to see if you've misclassified any red lights as green in the test set. **This test assumes that `MISCLASSIFIED` is a list of tuples with the order: [misclassified_image, predicted_label, true_label].**\n",
    "\n",
    "Note: this is not an all encompassing test, but its a good indicator that, if you pass, you are on the right track! This iterates through your list of misclassified examples and checks to see if any red traffic lights have been mistakenly labelled [0, 1, 0] (green)."
   ]
  },
  {
   "cell_type": "code",
   "execution_count": 367,
   "metadata": {},
   "outputs": [
    {
     "data": {
      "text/markdown": [
       "**<span style=\"color: green;\">TEST PASSED</span>**"
      ],
      "text/plain": [
       "<IPython.core.display.Markdown object>"
      ]
     },
     "metadata": {},
     "output_type": "display_data"
    }
   ],
   "source": [
    "\"\"\"Testing Red as Green Light.\n",
    "Test if missclassified any red lights as green.\n",
    "Classifying red lights as green would cause a car to-\n",
    "drive through a red traffic light, so this red-as-green-\n",
    "error is very dangerous in the real world.\n",
    "\"\"\"  \n",
    "# Importing the tests\n",
    "import test_functions\n",
    "tests = test_functions.Tests()\n",
    "\n",
    "# Checking red as green\n",
    "if(len(MISCLASSIFIED) > 0):\n",
    "    # Test code for one_hot_encode function\n",
    "    tests.test_red_as_green(MISCLASSIFIED)\n",
    "else:\n",
    "    print(\"MISCLASSIFIED may not have been populated with images.\")"
   ]
  },
  {
   "cell_type": "markdown",
   "metadata": {},
   "source": [
    "# 5. Improve your algorithm!\n",
    "\n",
    "**Submit your project after you have completed all implementations, answered all questions, AND when you've met the two criteria:**\n",
    "1. Greater than 90% accuracy classification\n",
    "2. No red lights classified as green\n",
    "\n",
    "If you did not meet these requirements (which is common on the first attempt!), revisit your algorithm and tweak it to improve light recognition -- this could mean changing the brightness feature, performing some background subtraction, or adding another feature!\n",
    "\n",
    "---"
   ]
  },
  {
   "cell_type": "markdown",
   "metadata": {
    "collapsed": true
   },
   "source": [
    "### Going Further (Optional Challenges)\n",
    "\n",
    "If you found this challenge easy, I suggest you go above and beyond! Here are a couple **optional** (meaning you do not need to implement these to submit and pass the project) suggestions:\n",
    "* (Optional) Aim for >95% classification accuracy.\n",
    "* (Optional) Some lights are in the shape of arrows; further classify the lights as round or arrow-shaped.\n",
    "* (Optional) Add another feature and aim for as close to 100% accuracy as you can get!"
   ]
  }
 ],
 "metadata": {
  "anaconda-cloud": {},
  "kernelspec": {
   "display_name": "Python 3",
   "language": "python",
   "name": "python3"
  },
  "language_info": {
   "codemirror_mode": {
    "name": "ipython",
    "version": 3
   },
   "file_extension": ".py",
   "mimetype": "text/x-python",
   "name": "python",
   "nbconvert_exporter": "python",
   "pygments_lexer": "ipython3",
   "version": "3.6.3"
  }
 },
 "nbformat": 4,
 "nbformat_minor": 2
}
